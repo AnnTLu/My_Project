{
  "nbformat": 4,
  "nbformat_minor": 0,
  "metadata": {
    "colab": {
      "name": "02-ListsTuples_Lab.ipynb",
      "provenance": [],
      "collapsed_sections": [],
      "include_colab_link": true
    },
    "kernelspec": {
      "name": "python3",
      "display_name": "Python 3"
    }
  },
  "cells": [
    {
      "cell_type": "markdown",
      "metadata": {
        "id": "view-in-github",
        "colab_type": "text"
      },
      "source": [
        "<a href=\"https://colab.research.google.com/github/AnnTLu/My_Project/blob/main/02_ListsTuples_Lab.ipynb\" target=\"_parent\"><img src=\"https://colab.research.google.com/assets/colab-badge.svg\" alt=\"Open In Colab\"/></a>"
      ]
    },
    {
      "cell_type": "markdown",
      "metadata": {
        "id": "pE2044bBAk0X"
      },
      "source": [
        "# Lab Exercise \n",
        "\n",
        "Complete the questions below as part of the Lab exercises."
      ]
    },
    {
      "cell_type": "markdown",
      "metadata": {
        "id": "jUJXLHTeAebu"
      },
      "source": [
        "# Part 1\n",
        "\n",
        "After running the starter code, complete the questions below."
      ]
    },
    {
      "cell_type": "code",
      "metadata": {
        "id": "C-XRQaWBAvEC",
        "colab": {
          "base_uri": "https://localhost:8080/"
        },
        "outputId": "6ddc6255-16d3-4301-f932-77d306e567fa"
      },
      "source": [
        "# STARTER CODE 1\n",
        "! pip install newspaper3k"
      ],
      "execution_count": 1,
      "outputs": [
        {
          "output_type": "stream",
          "text": [
            "Collecting newspaper3k\n",
            "\u001b[?25l  Downloading https://files.pythonhosted.org/packages/d7/b9/51afecb35bb61b188a4b44868001de348a0e8134b4dfa00ffc191567c4b9/newspaper3k-0.2.8-py3-none-any.whl (211kB)\n",
            "\u001b[K     |████████████████████████████████| 215kB 4.0MB/s \n",
            "\u001b[?25hRequirement already satisfied: lxml>=3.6.0 in /usr/local/lib/python3.7/dist-packages (from newspaper3k) (4.2.6)\n",
            "Requirement already satisfied: PyYAML>=3.11 in /usr/local/lib/python3.7/dist-packages (from newspaper3k) (3.13)\n",
            "Collecting tldextract>=2.0.1\n",
            "\u001b[?25l  Downloading https://files.pythonhosted.org/packages/7e/62/b6acd3129c5615b9860e670df07fd55b76175b63e6b7f68282c7cad38e9e/tldextract-3.1.0-py2.py3-none-any.whl (87kB)\n",
            "\u001b[K     |████████████████████████████████| 92kB 9.9MB/s \n",
            "\u001b[?25hCollecting feedfinder2>=0.0.4\n",
            "  Downloading https://files.pythonhosted.org/packages/35/82/1251fefec3bb4b03fd966c7e7f7a41c9fc2bb00d823a34c13f847fd61406/feedfinder2-0.0.4.tar.gz\n",
            "Collecting jieba3k>=0.35.1\n",
            "\u001b[?25l  Downloading https://files.pythonhosted.org/packages/a9/cb/2c8332bcdc14d33b0bedd18ae0a4981a069c3513e445120da3c3f23a8aaa/jieba3k-0.35.1.zip (7.4MB)\n",
            "\u001b[K     |████████████████████████████████| 7.4MB 21.4MB/s \n",
            "\u001b[?25hCollecting cssselect>=0.9.2\n",
            "  Downloading https://files.pythonhosted.org/packages/3b/d4/3b5c17f00cce85b9a1e6f91096e1cc8e8ede2e1be8e96b87ce1ed09e92c5/cssselect-1.1.0-py2.py3-none-any.whl\n",
            "Requirement already satisfied: beautifulsoup4>=4.4.1 in /usr/local/lib/python3.7/dist-packages (from newspaper3k) (4.6.3)\n",
            "Requirement already satisfied: requests>=2.10.0 in /usr/local/lib/python3.7/dist-packages (from newspaper3k) (2.23.0)\n",
            "Requirement already satisfied: Pillow>=3.3.0 in /usr/local/lib/python3.7/dist-packages (from newspaper3k) (7.1.2)\n",
            "Collecting feedparser>=5.2.1\n",
            "\u001b[?25l  Downloading https://files.pythonhosted.org/packages/d8/b2/15bf6781a861bbc5dd801d467f26448fb322bfedcd30f2e62b148d104dfb/feedparser-6.0.8-py3-none-any.whl (81kB)\n",
            "\u001b[K     |████████████████████████████████| 81kB 3.8MB/s \n",
            "\u001b[?25hRequirement already satisfied: nltk>=3.2.1 in /usr/local/lib/python3.7/dist-packages (from newspaper3k) (3.2.5)\n",
            "Requirement already satisfied: python-dateutil>=2.5.3 in /usr/local/lib/python3.7/dist-packages (from newspaper3k) (2.8.1)\n",
            "Collecting tinysegmenter==0.3\n",
            "  Downloading https://files.pythonhosted.org/packages/17/82/86982e4b6d16e4febc79c2a1d68ee3b707e8a020c5d2bc4af8052d0f136a/tinysegmenter-0.3.tar.gz\n",
            "Requirement already satisfied: filelock>=3.0.8 in /usr/local/lib/python3.7/dist-packages (from tldextract>=2.0.1->newspaper3k) (3.0.12)\n",
            "Collecting requests-file>=1.4\n",
            "  Downloading https://files.pythonhosted.org/packages/77/86/cdb5e8eaed90796aa83a6d9f75cfbd37af553c47a291cd47bc410ef9bdb2/requests_file-1.5.1-py2.py3-none-any.whl\n",
            "Requirement already satisfied: idna in /usr/local/lib/python3.7/dist-packages (from tldextract>=2.0.1->newspaper3k) (2.10)\n",
            "Requirement already satisfied: six in /usr/local/lib/python3.7/dist-packages (from feedfinder2>=0.0.4->newspaper3k) (1.15.0)\n",
            "Requirement already satisfied: certifi>=2017.4.17 in /usr/local/lib/python3.7/dist-packages (from requests>=2.10.0->newspaper3k) (2021.5.30)\n",
            "Requirement already satisfied: urllib3!=1.25.0,!=1.25.1,<1.26,>=1.21.1 in /usr/local/lib/python3.7/dist-packages (from requests>=2.10.0->newspaper3k) (1.24.3)\n",
            "Requirement already satisfied: chardet<4,>=3.0.2 in /usr/local/lib/python3.7/dist-packages (from requests>=2.10.0->newspaper3k) (3.0.4)\n",
            "Collecting sgmllib3k\n",
            "  Downloading https://files.pythonhosted.org/packages/9e/bd/3704a8c3e0942d711c1299ebf7b9091930adae6675d7c8f476a7ce48653c/sgmllib3k-1.0.0.tar.gz\n",
            "Building wheels for collected packages: feedfinder2, jieba3k, tinysegmenter, sgmllib3k\n",
            "  Building wheel for feedfinder2 (setup.py) ... \u001b[?25l\u001b[?25hdone\n",
            "  Created wheel for feedfinder2: filename=feedfinder2-0.0.4-cp37-none-any.whl size=3358 sha256=5a787b3e11c574cd5106ede67798d3fbfd13d29100d25f1472c43ed2758099fa\n",
            "  Stored in directory: /root/.cache/pip/wheels/de/03/ca/778e3a7a627e3d98836cc890e7cb40c7575424cfd3340f40ed\n",
            "  Building wheel for jieba3k (setup.py) ... \u001b[?25l\u001b[?25hdone\n",
            "  Created wheel for jieba3k: filename=jieba3k-0.35.1-cp37-none-any.whl size=7398404 sha256=85618cc63dd4f3e299d6cdf2a4ee38874f94019585e2974566c23b76429ffb68\n",
            "  Stored in directory: /root/.cache/pip/wheels/83/15/9c/a3f1f67e7f7181170ad37d32e503c35da20627c013f438ed34\n",
            "  Building wheel for tinysegmenter (setup.py) ... \u001b[?25l\u001b[?25hdone\n",
            "  Created wheel for tinysegmenter: filename=tinysegmenter-0.3-cp37-none-any.whl size=13553 sha256=9b3592a68db71b028593f4533bc307684dc6c900579d4d32c46237c31ac9f41d\n",
            "  Stored in directory: /root/.cache/pip/wheels/81/2b/43/a02ede72324dd40cdd7ca53aad718c7710628e91b8b0dc0f02\n",
            "  Building wheel for sgmllib3k (setup.py) ... \u001b[?25l\u001b[?25hdone\n",
            "  Created wheel for sgmllib3k: filename=sgmllib3k-1.0.0-cp37-none-any.whl size=6067 sha256=393e3dbca91adfcf3896db65e37565b20fcec343a7f1e7bda11e792330016fb2\n",
            "  Stored in directory: /root/.cache/pip/wheels/f1/80/5a/444ba08a550cdd241bd9baf8bae44be750efe370adb944506a\n",
            "Successfully built feedfinder2 jieba3k tinysegmenter sgmllib3k\n",
            "Installing collected packages: requests-file, tldextract, feedfinder2, jieba3k, cssselect, sgmllib3k, feedparser, tinysegmenter, newspaper3k\n",
            "Successfully installed cssselect-1.1.0 feedfinder2-0.0.4 feedparser-6.0.8 jieba3k-0.35.1 newspaper3k-0.2.8 requests-file-1.5.1 sgmllib3k-1.0.0 tinysegmenter-0.3 tldextract-3.1.0\n"
          ],
          "name": "stdout"
        }
      ]
    },
    {
      "cell_type": "code",
      "metadata": {
        "id": "E5p_iRiiA0lm"
      },
      "source": [
        "# STARTER CODE 1\n",
        "from newspaper import Article\n",
        "URL = \"https://www.boston.com/travel/travel/2020/09/16/best-apple-orchard-according-to-readers\"\n",
        "article = Article(URL)\n",
        "article.download()\n",
        "article.parse()\n",
        "article_text = article.text"
      ],
      "execution_count": 2,
      "outputs": []
    },
    {
      "cell_type": "code",
      "metadata": {
        "id": "SS60gwDzQyna",
        "colab": {
          "base_uri": "https://localhost:8080/"
        },
        "outputId": "d2d7e9f4-68bf-4b11-af30-174105a5f892"
      },
      "source": [
        "# Q1: print out the article_text variable. This is the variable we will be using.\n",
        "print(article_text)"
      ],
      "execution_count": 3,
      "outputs": [
        {
          "output_type": "stream",
          "text": [
            "Travel The best apple orchard in New England, according to Boston.com readers It's in Massachusetts. A family picking apples at Honey Pot Hill Orchards in Stow in 2017. John Tlumacki / The Boston Globe\n",
            "\n",
            "When we asked Boston.com readers for the best places to pick apples in New England, more than 100 people named nearly 40 farms across five states. But there was one clear favorite.\n",
            "\n",
            "Honey Pot Hill Orchards in Stow, which received the most mentions by far, offers more than 200 acres of orchards, as well as hayrides, mazes, and farm animals. The next most most mentioned farms by readers: Parlee Farms in Tyngsborough and Russell Orchards in Ipswich.\n",
            "\n",
            "“The apple cider donuts are amazing,” wrote a Boston.com reader about Honey Pot Hill Orchards. “They have a petting zoo for the kids and also a pumpkin patch where you can pick your own pumpkin. Great place.”\n",
            "\n",
            "Advertisement:\n",
            "\n",
            "Two of the farms chosen by readers — Tougas Family Farm in Northborough and Libby & Son U-Picks in Limerick, Maine, were just named among the best apple orchards in America by USA Today.\n",
            "\n",
            "Before plotting your apple-picking adventure this season, it’s a good idea to visit a farm’s website due to COVID-19 restrictions that may include capacity limitations, reservation requirements, and more.\n",
            "\n",
            "Ahead, check out which regional farms Boston.com readers love the most. If there’s a number in parenthesis after the name of a farm, it signifies how many times the farm was chosen by readers as the best.\n",
            "\n",
            "Massachusetts\n",
            "\n",
            "Autumn Hills Orchard in Groton\n",
            "\n",
            "Bartlett’s Orchard in Richmond\n",
            "\n",
            "Belkin Family Lookout Farm in Natick (6)\n",
            "\n",
            "Berlin Orchards in Berlin (2)\n",
            "\n",
            "Bolton Orchards in Bolton (3)\n",
            "\n",
            "Bolton Spring Farms in Bolton (3)\n",
            "\n",
            "Brookfield Orchards in North Brookfield\n",
            "\n",
            "Brooksby Farm in Peabody (2)\n",
            "\n",
            "Carlson Orchards in Harvard (5)\n",
            "\n",
            "Cider Hill Farm in Amesbury (5)\n",
            "\n",
            "Clarkdale Fruit Farms in Deerfield (3)\n",
            "\n",
            "Clearview Farm in Sterling\n",
            "\n",
            "CN Smith Farm in East Bridgewater\n",
            "\n",
            "Doe Orchards in Harvard (5)\n",
            "\n",
            "Dowse Orchards in Sherborn\n",
            "\n",
            "Honey Pot Hill Orchards in Stow (26)\n",
            "\n",
            "Park Hill Orchard in Easthampton (2)\n",
            "\n",
            "Parlee Farms in Tyngsborough (9)\n",
            "\n",
            "Red Apple Farm in Phillipston (4)\n",
            "\n",
            "Russell Orchards in Ipswich (8)\n",
            "\n",
            "Shelburne Farm in Stow (6)\n",
            "\n",
            "Smolak Farms in North Andover (5)\n",
            "\n",
            "Tangerini’s Farm in Millis\n",
            "\n",
            "The Big Apple in Wrentham (3)\n",
            "\n",
            "Tougas Family Farm in Northborough (7)\n",
            "\n",
            "Westward Orchards in Harvard\n",
            "\n",
            "New Hampshire\n",
            "\n",
            "Alyson’s Orchard in Walpole (2)\n",
            "\n",
            "Applecrest Farm Orchards in Hampton Falls (7)\n",
            "\n",
            "Appleview Orchard in Pittsfield\n",
            "\n",
            "Brookdale Fruit Farm in Hollis\n",
            "\n",
            "Lull Farm in Hollis (2)\n",
            "\n",
            "Mack’s Apples in Londonderry (6)\n",
            "\n",
            "Vermont\n",
            "\n",
            "Chapin Orchard in Essex Junction\n",
            "\n",
            "Shelburne Orchards in Shelburne\n",
            "\n",
            "Maine\n",
            "\n",
            "Hope Orchards in Hope\n",
            "\n",
            "Libby & Son U-Picks in Limerick\n",
            "\n",
            "McDougal Orchards in Springvale\n",
            "\n",
            "Rhode Island\n",
            "\n",
            "Barden Family Orchard in North Scituate\n",
            "\n",
            "Advertisement:\n",
            "\n",
            "Did we miss any? Let us know your favorite in the comments below.\n"
          ],
          "name": "stdout"
        }
      ]
    },
    {
      "cell_type": "code",
      "metadata": {
        "id": "j1dOPKBGQ16h",
        "colab": {
          "base_uri": "https://localhost:8080/"
        },
        "outputId": "eb12eed8-5397-4f40-abbc-a9c1b05712fc"
      },
      "source": [
        "# Q2: how many times does the word apple appear across any case (upper or lower)?\n",
        "textLow = article_text.lower()\n",
        "print(\"The times the word apple appear is: {}\".format(textLow.count(\"apple\")))"
      ],
      "execution_count": 4,
      "outputs": [
        {
          "output_type": "stream",
          "text": [
            "The times the word apple appear is: 11\n"
          ],
          "name": "stdout"
        }
      ]
    },
    {
      "cell_type": "code",
      "metadata": {
        "id": "bTtgcBkBRSQQ",
        "colab": {
          "base_uri": "https://localhost:8080/"
        },
        "outputId": "a029f5c4-ea61-4737-fb6d-05238036911f"
      },
      "source": [
        "# Q3: how many individual words are there?\n",
        "# TRICKY:  Look at the string methods\n",
        "# Also an opportunity to think about how you might search for help to a problem, \n",
        "# search engines are our friend.\n",
        "import re\n",
        "text = textLow\n",
        "text1 = re.sub('&|/|-|\\n', \"\", text)\n",
        "text2 = text1.split(\" \")\n",
        "\n",
        "count = 0\n",
        "for t in range(len(text2)):\n",
        "   if t != \" \":\n",
        "     count += 1\n",
        "print(\"The number of individual words is: {}\".format(count))"
      ],
      "execution_count": 5,
      "outputs": [
        {
          "output_type": "stream",
          "text": [
            "The number of individual words is: 416\n"
          ],
          "name": "stdout"
        }
      ]
    },
    {
      "cell_type": "code",
      "metadata": {
        "id": "9Z1ZWCq7RjWg",
        "colab": {
          "base_uri": "https://localhost:8080/"
        },
        "outputId": "2dea2e57-2e47-48dd-d041-9ab0277efaab"
      },
      "source": [
        "# Q4:  Building on the solution above, create a list where each entry is a sentence.\n",
        "# use \".\" to define a sentence.\n",
        "text3 = textLow\n",
        "text4 = re.sub('\\n\\n', \"\", text3)\n",
        "text5 = text4.split(\".\")\n",
        "print(\"The sentence in a list:\")\n",
        "print(text5)"
      ],
      "execution_count": 6,
      "outputs": [
        {
          "output_type": "stream",
          "text": [
            "The sentence in a list:\n",
            "['travel the best apple orchard in new england, according to boston', \"com readers it's in massachusetts\", ' a family picking apples at honey pot hill orchards in stow in 2017', ' john tlumacki / the boston globewhen we asked boston', 'com readers for the best places to pick apples in new england, more than 100 people named nearly 40 farms across five states', ' but there was one clear favorite', 'honey pot hill orchards in stow, which received the most mentions by far, offers more than 200 acres of orchards, as well as hayrides, mazes, and farm animals', ' the next most most mentioned farms by readers: parlee farms in tyngsborough and russell orchards in ipswich', '“the apple cider donuts are amazing,” wrote a boston', 'com reader about honey pot hill orchards', ' “they have a petting zoo for the kids and also a pumpkin patch where you can pick your own pumpkin', ' great place', '”advertisement:two of the farms chosen by readers — tougas family farm in northborough and libby & son u-picks in limerick, maine, were just named among the best apple orchards in america by usa today', 'before plotting your apple-picking adventure this season, it’s a good idea to visit a farm’s website due to covid-19 restrictions that may include capacity limitations, reservation requirements, and more', 'ahead, check out which regional farms boston', 'com readers love the most', ' if there’s a number in parenthesis after the name of a farm, it signifies how many times the farm was chosen by readers as the best', 'massachusettsautumn hills orchard in grotonbartlett’s orchard in richmondbelkin family lookout farm in natick (6)berlin orchards in berlin (2)bolton orchards in bolton (3)bolton spring farms in bolton (3)brookfield orchards in north brookfieldbrooksby farm in peabody (2)carlson orchards in harvard (5)cider hill farm in amesbury (5)clarkdale fruit farms in deerfield (3)clearview farm in sterlingcn smith farm in east bridgewaterdoe orchards in harvard (5)dowse orchards in sherbornhoney pot hill orchards in stow (26)park hill orchard in easthampton (2)parlee farms in tyngsborough (9)red apple farm in phillipston (4)russell orchards in ipswich (8)shelburne farm in stow (6)smolak farms in north andover (5)tangerini’s farm in millisthe big apple in wrentham (3)tougas family farm in northborough (7)westward orchards in harvardnew hampshirealyson’s orchard in walpole (2)applecrest farm orchards in hampton falls (7)appleview orchard in pittsfieldbrookdale fruit farm in hollislull farm in hollis (2)mack’s apples in londonderry (6)vermontchapin orchard in essex junctionshelburne orchards in shelburnemainehope orchards in hopelibby & son u-picks in limerickmcdougal orchards in springvalerhode islandbarden family orchard in north scituateadvertisement:did we miss any? let us know your favorite in the comments below', '']\n"
          ],
          "name": "stdout"
        }
      ]
    },
    {
      "cell_type": "code",
      "metadata": {
        "id": "urg7ESVPRx47",
        "colab": {
          "base_uri": "https://localhost:8080/"
        },
        "outputId": "962bb31a-8e9b-4251-c167-91c918f79c4c"
      },
      "source": [
        "# Q5: How many characters are there in article_text\n",
        "print(\"The number of characters including space is: {}\".format(len(article_text)))\n",
        "print(\"The number of characters excluding space is: {}\".format(len(article_text.replace(\" \",\"\"))))"
      ],
      "execution_count": 7,
      "outputs": [
        {
          "output_type": "stream",
          "text": [
            "The number of characters including space is: 2893\n",
            "The number of characters excluding space is: 2478\n"
          ],
          "name": "stdout"
        }
      ]
    },
    {
      "cell_type": "code",
      "metadata": {
        "id": "lJcq3d8FSKuW",
        "colab": {
          "base_uri": "https://localhost:8080/",
          "height": 52
        },
        "outputId": "6b89a0e5-d987-44c7-e1e0-77e12b4578ec"
      },
      "source": [
        "# Q6: subset article_text to include only the first 100 characters\n",
        "subText = article_text[:100]\n",
        "print(\"The first 100 characters are: \")\n",
        "subText\n",
        "# textList = list(article_text)\n",
        "# print(\"The first 100 characters are: \")\n",
        "# for c in range(99):\n",
        "#   print(textList[c])"
      ],
      "execution_count": 8,
      "outputs": [
        {
          "output_type": "stream",
          "text": [
            "The first 100 characters are: \n"
          ],
          "name": "stdout"
        },
        {
          "output_type": "execute_result",
          "data": {
            "application/vnd.google.colaboratory.intrinsic+json": {
              "type": "string"
            },
            "text/plain": [
              "\"Travel The best apple orchard in New England, according to Boston.com readers It's in Massachusetts.\""
            ]
          },
          "metadata": {
            "tags": []
          },
          "execution_count": 8
        }
      ]
    },
    {
      "cell_type": "markdown",
      "metadata": {
        "id": "bmQBAJ9oSVvw"
      },
      "source": [
        "# Part 2"
      ]
    },
    {
      "cell_type": "code",
      "metadata": {
        "id": "NJupRYTMbRyp"
      },
      "source": [
        "# STARTER CODE SNIPPET\n",
        "\n",
        "# our list\n",
        "our_list = [1,2,3,4,5, ['a', 'b', 'c'], 6, 7, 8, 9, 10]\n"
      ],
      "execution_count": 9,
      "outputs": []
    },
    {
      "cell_type": "code",
      "metadata": {
        "id": "jF-wRjq4cOtF",
        "colab": {
          "base_uri": "https://localhost:8080/"
        },
        "outputId": "5791fe97-90e5-4390-e1c6-5081dded1879"
      },
      "source": [
        "# Q1:  What is the length of the object/variable our_list?\n",
        "print(\"The length of our_list is: {}\".format(len(our_list)))"
      ],
      "execution_count": 10,
      "outputs": [
        {
          "output_type": "stream",
          "text": [
            "The length of our_list is: 11\n"
          ],
          "name": "stdout"
        }
      ]
    },
    {
      "cell_type": "code",
      "metadata": {
        "id": "Qt63uzUicQSJ",
        "colab": {
          "base_uri": "https://localhost:8080/"
        },
        "outputId": "a06582ef-43c4-4af0-ee1c-63a5d0158f9f"
      },
      "source": [
        "# Q2: Append the number 11 to the end of the list\n",
        "newList = our_list.copy()\n",
        "newList.append(11)\n",
        "newList"
      ],
      "execution_count": 11,
      "outputs": [
        {
          "output_type": "execute_result",
          "data": {
            "text/plain": [
              "[1, 2, 3, 4, 5, ['a', 'b', 'c'], 6, 7, 8, 9, 10, 11]"
            ]
          },
          "metadata": {
            "tags": []
          },
          "execution_count": 11
        }
      ]
    },
    {
      "cell_type": "code",
      "metadata": {
        "id": "Bimkvnvsd8WO",
        "colab": {
          "base_uri": "https://localhost:8080/"
        },
        "outputId": "fffa77e3-9759-4bdf-f06a-851a5c667d83"
      },
      "source": [
        "# Q3: remove the 11 you just added in Q2\n",
        "newList.remove(11)\n",
        "newList"
      ],
      "execution_count": 12,
      "outputs": [
        {
          "output_type": "execute_result",
          "data": {
            "text/plain": [
              "[1, 2, 3, 4, 5, ['a', 'b', 'c'], 6, 7, 8, 9, 10]"
            ]
          },
          "metadata": {
            "tags": []
          },
          "execution_count": 12
        }
      ]
    },
    {
      "cell_type": "code",
      "metadata": {
        "id": "sKvp0HKQeG9q"
      },
      "source": [
        "# Q4: Create a list that only contains the list of letters\n",
        "# call this variable letters\n",
        "letters = ['A','n','n']"
      ],
      "execution_count": 13,
      "outputs": []
    },
    {
      "cell_type": "code",
      "metadata": {
        "id": "Qv1LClXBTWX6",
        "colab": {
          "base_uri": "https://localhost:8080/"
        },
        "outputId": "2cc4bc7e-dde4-403e-964f-8304ea010662"
      },
      "source": [
        "# reverse the variable letters\n",
        "revList = letters[::-1]\n",
        "revList"
      ],
      "execution_count": 14,
      "outputs": [
        {
          "output_type": "execute_result",
          "data": {
            "text/plain": [
              "['n', 'n', 'A']"
            ]
          },
          "metadata": {
            "tags": []
          },
          "execution_count": 14
        }
      ]
    }
  ]
}