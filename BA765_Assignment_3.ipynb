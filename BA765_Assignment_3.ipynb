{
  "nbformat": 4,
  "nbformat_minor": 0,
  "metadata": {
    "colab": {
      "name": "BA765_Assignment_3.ipynb",
      "provenance": [],
      "collapsed_sections": [],
      "include_colab_link": true
    },
    "kernelspec": {
      "name": "python3",
      "display_name": "Python 3"
    },
    "language_info": {
      "name": "python"
    }
  },
  "cells": [
    {
      "cell_type": "markdown",
      "metadata": {
        "id": "view-in-github",
        "colab_type": "text"
      },
      "source": [
        "<a href=\"https://colab.research.google.com/github/AnnTLu/My_Project/blob/main/BA765_Assignment_3.ipynb\" target=\"_parent\"><img src=\"https://colab.research.google.com/assets/colab-badge.svg\" alt=\"Open In Colab\"/></a>"
      ]
    },
    {
      "cell_type": "markdown",
      "metadata": {
        "id": "4oc2lNgYCHAw"
      },
      "source": [
        "# Assignment 3\n",
        "\n",
        "Please read the instructions below carefully and if you have any questions, ask as soon as possible.\n",
        "\n",
        "Once you completed this assignment, upload the notebook to your GitHub repository (same one that you used for assignment 1) and export your work also as a3.py (with this name and format) and submit to QuestromTools course site.\n",
        "\n",
        "Scripts that do not execute correctly will not be graded. To make sure your submission can be successfully executed, try executing it on your local machine **as a script** before submission, e.g. with `python3 a3.py` or via your favorite IDE."
      ]
    },
    {
      "cell_type": "markdown",
      "metadata": {
        "id": "32upflRAB_cE"
      },
      "source": [
        "## The Business Problem:\n",
        "\n",
        "The newly constructed Encore Casino in Boston Harbor is evaluating the creation of a new table game involving dice.\n",
        "\n",
        "- The roll of a dice occurs a minimum of two times, but per the rules of the game, could require an additional 3rd roll.\n",
        "\n",
        "- A dice is defined as an entity that when rolled, it will return a single value between 1 and 6, often referred to as the face value.\n",
        "\n",
        "- The face values of 1,2,3,4,5,6 are all equally likely.\n",
        "\n",
        "The casino has found that the typical user joins a table with 10 credits, and are planning on charging a single credit for a play of the game.  \n",
        "\n",
        "Only one player can be at the table at a time.  \n",
        "\n",
        "They hired your analytics firm to better understand the risk of the proposed idea.\n",
        "\n",
        "The Rules:\n",
        "\n",
        "1. A game is initiated by rolling a dice, two seperate times, and recording the Grand Total, which is the sum of the first and second rolls.\n",
        "\n",
        "1. If the Grand Total after two rolls of the dice is less than or equal to 9, the dice **must be** rolled one more time, with the face value recorded and added to the Grand Total.\n",
        "\n",
        "1. If the Grand Total after two rolls of the dice is greater than 10, no more rolls of the dice will take place.\n",
        "\n",
        "1. In the event that the Grand Total is equal to 10, a 3rd roll can  conditionally take place based on player's decision. The business asks you to model player decision by a random process so that on average 90% of the time players choose a third roll. If a third roll takes place, add the face value of the roll to the Grand Total. Consequently, on average 10% of the time player model chooses not to roll, so the Grand Total is taken from the previous two rolls of the dice.\n",
        "\n",
        "Once the game has concluded, the proposed payout structure is as follows:\n",
        "\n",
        "- A Grand Total of 9 or less results in a loss for the user.  That is, no payout.\n",
        "- A Grand Total of 10 or 12 pays out 1 credit\n",
        "- A Grand Total of 13 pays out 2 credits\n",
        "- A Grand Total of 11, 14 or 15 results in a loss for the user.  That is, no payout.\n",
        "- A Grand Total of 16 pays out 5 credits\n",
        "\n",
        "The user must leave the table under one of two conditions:\n",
        "\n",
        "1.  They run out of credits\n",
        "1.  They have played the game 25 times.  \n",
        "\n",
        "\n",
        "Your Exercise:\n",
        "\n",
        "Create a class called `dice_game` and save your work in a python script (not a notebook!) called `a3.py`.\n",
        "\n",
        "Your class will allow the Casino to study the gameplay and assess its risk.\n",
        "\n",
        "Your class should have the following attributes:\n",
        "\n",
        "1. `players` which is an integer.  By default, this value should be 50 and internally represents the number of players the casino believes will play in a given day.\n",
        "\n",
        "2. `wallet` which is a list.  Each entry in `wallet` should itemize the player's final credits after attempting to play the dice game above.  A value of 0 represents they ran out of money, otherwise, the total credits remaining after 25 rounds of the game. By default, this list is empty.\n",
        "\n",
        "2.  `games_played` which is a list.  Each entry should itemize how many plays of the game occurred for a player sitting down at the table.  The maximum value for any entry in the list must be 25 (for maximum games played).  By default, this list is empty.\n",
        "\n",
        "Your class should have the following methods:\n",
        "\n",
        "1.  `simulate` which will simulate a session at the table for a number of players.  The number of players is defined by `players` attribute described above.\n",
        "1.  `avg_rounds` which will return an integer indicating the average rounds at the table for all `players`\n",
        "1.  `profit` which will return an integer indicating the net number of credits the Casino can expect to make or lose across the simulation of the game for all `players`"
      ]
    },
    {
      "cell_type": "code",
      "metadata": {
        "id": "pJSnvfVZCUKY"
      },
      "source": [
        "import numpy as np\n",
        "import random\n",
        "class dice_game():\n",
        "  def __init__(self, ply = 50):\n",
        "    self.players = ply\n",
        "    self.wallet = [] \n",
        "    self.games_played = []\n",
        "  \n",
        "  def simulate(self):\n",
        "    for p in range(self.players):\n",
        "      Cre = 9\n",
        "      round_count = 0\n",
        "      while Cre >= 0:\n",
        "        round_count += 1\n",
        "        dice_1 = random.randint(1,6)\n",
        "        dice_2 = random.randint(1,6)\n",
        "        dice_sum = dice_1 + dice_2\n",
        "        #print(\"dice sum: \",dice_sum)\n",
        "        if dice_sum <= 9:\n",
        "          dice_3 = random.randint(1,6)\n",
        "          dice_sum += dice_3\n",
        "          #print(\"dice : \",dice_sum)\n",
        "        elif dice_sum == 10:\n",
        "          if random.randint(0,1) == 0:\n",
        "            dice_3 = random.randint(1,6)\n",
        "            dice_sum += dice_3\n",
        "            #print(\"roll dice\")\n",
        "        #print(\"final dice = \",dice_sum)\n",
        "        if dice_sum <= 9:\n",
        "          Cre += 0\n",
        "        elif dice_sum == 10 or dice_sum == 12:\n",
        "          Cre += 1\n",
        "        elif dice_sum == 13:\n",
        "          Cre += 2\n",
        "        elif dice_sum == 11 or dice_sum == 14 or dice_sum == 15:\n",
        "          Cre += 0\n",
        "        else:\n",
        "          Cre += 5\n",
        "        Cre -= 1\n",
        "        #print(\"Credit:\", Cre)\n",
        "        if round_count == 25:\n",
        "          break\n",
        "      if Cre < 0:\n",
        "        Cre = 0\n",
        "      #print(\"credit = \",Cre)\n",
        "      self.wallet.append(Cre)\n",
        "      self.games_played.append(round_count)\n",
        "    print(\"The wallet of every player:\",self.wallet)\n",
        "    print('The rounds players played:', self.games_played)\n",
        "\n",
        "  def avg_rounds(self):\n",
        "    average = np.array(self.games_played).mean()\n",
        "    print(\"The average rounds:\", average)\n",
        "  \n",
        "  def profit(self):\n",
        "    casino_profit = self.players * 10 - sum(self.wallet)\n",
        "    print(\"The profists casina earn:\" , casino_profit)"
      ],
      "execution_count": 8,
      "outputs": []
    },
    {
      "cell_type": "code",
      "metadata": {
        "colab": {
          "base_uri": "https://localhost:8080/"
        },
        "id": "6AeU1m91NsjR",
        "outputId": "8814a97b-bb9f-46bc-cc85-8591edcf10dc"
      },
      "source": [
        "object_1 = dice_game()\n",
        "object_1.simulate()\n",
        "object_1.avg_rounds()\n",
        "object_1.profit()"
      ],
      "execution_count": 17,
      "outputs": [
        {
          "output_type": "stream",
          "text": [
            "The wallet of every player: [1, 0, 0, 0, 0, 0, 0, 0, 0, 0, 0, 0, 0, 0, 0, 0, 0, 0, 0, 0, 0, 0, 0, 0, 0, 0, 2, 0, 0, 0, 0, 2, 0, 0, 0, 0, 2, 0, 0, 0, 0, 5, 0, 0, 0, 0, 3, 0, 0, 0]\n",
            "The rounds players played: [25, 15, 14, 18, 19, 21, 25, 14, 16, 17, 20, 11, 15, 16, 24, 17, 23, 17, 16, 15, 17, 22, 22, 10, 13, 21, 25, 22, 14, 21, 18, 25, 21, 21, 23, 25, 25, 12, 25, 20, 18, 25, 17, 18, 18, 13, 25, 17, 20, 15]\n",
            "The average rounds: 18.92\n",
            "The profists casina earn: 485\n"
          ],
          "name": "stdout"
        }
      ]
    }
  ]
}